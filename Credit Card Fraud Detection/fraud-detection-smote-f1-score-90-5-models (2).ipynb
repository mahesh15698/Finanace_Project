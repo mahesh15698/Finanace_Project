{
 "cells": [
  {
   "cell_type": "markdown",
   "metadata": {},
   "source": [
    "# Credit Card Fraud Detection"
   ]
  },
  {
   "cell_type": "markdown",
   "metadata": {},
   "source": [
    "# Dataset\n",
    "link : https://www.kaggle.com/datasets/mlg-ulb/creditcardfraud"
   ]
  },
  {
   "cell_type": "markdown",
   "metadata": {},
   "source": [
    "### Import the Necessary Libraries :"
   ]
  },
  {
   "cell_type": "code",
   "execution_count": null,
   "metadata": {
    "execution": {
     "iopub.execute_input": "2022-10-15T08:23:14.786953Z",
     "iopub.status.busy": "2022-10-15T08:23:14.786225Z",
     "iopub.status.idle": "2022-10-15T08:23:15.910822Z",
     "shell.execute_reply": "2022-10-15T08:23:15.909568Z",
     "shell.execute_reply.started": "2022-10-15T08:23:14.786904Z"
    }
   },
   "outputs": [],
   "source": [
    "import pandas as pd\n",
    "import numpy as np\n",
    "import matplotlib.pyplot as plt\n",
    "import seaborn as sns\n",
    "%matplotlib inline\n",
    "pd.options.display.float_format = '{:.2f}'.format"
   ]
  },
  {
   "cell_type": "code",
   "execution_count": null,
   "metadata": {
    "execution": {
     "iopub.execute_input": "2022-10-15T08:23:15.914191Z",
     "iopub.status.busy": "2022-10-15T08:23:15.913694Z",
     "iopub.status.idle": "2022-10-15T08:23:20.883097Z",
     "shell.execute_reply": "2022-10-15T08:23:20.882134Z",
     "shell.execute_reply.started": "2022-10-15T08:23:15.914139Z"
    }
   },
   "outputs": [],
   "source": [
    "data = pd.read_csv('../input/creditcardfraud/creditcard.csv')\n",
    "data.head()"
   ]
  },
  {
   "cell_type": "markdown",
   "metadata": {},
   "source": [
    "### Data Info :"
   ]
  },
  {
   "cell_type": "code",
   "execution_count": null,
   "metadata": {
    "execution": {
     "iopub.execute_input": "2022-10-15T08:23:20.884874Z",
     "iopub.status.busy": "2022-10-15T08:23:20.884407Z",
     "iopub.status.idle": "2022-10-15T08:23:20.891141Z",
     "shell.execute_reply": "2022-10-15T08:23:20.889993Z",
     "shell.execute_reply.started": "2022-10-15T08:23:20.884839Z"
    }
   },
   "outputs": [],
   "source": [
    "data.shape"
   ]
  },
  {
   "cell_type": "code",
   "execution_count": null,
   "metadata": {
    "execution": {
     "iopub.execute_input": "2022-10-15T08:23:20.892656Z",
     "iopub.status.busy": "2022-10-15T08:23:20.892303Z",
     "iopub.status.idle": "2022-10-15T08:23:20.915233Z",
     "shell.execute_reply": "2022-10-15T08:23:20.913477Z",
     "shell.execute_reply.started": "2022-10-15T08:23:20.892603Z"
    },
    "scrolled": true
   },
   "outputs": [],
   "source": [
    "data.columns"
   ]
  },
  {
   "cell_type": "code",
   "execution_count": null,
   "metadata": {
    "execution": {
     "iopub.execute_input": "2022-10-15T08:23:20.920507Z",
     "iopub.status.busy": "2022-10-15T08:23:20.919917Z",
     "iopub.status.idle": "2022-10-15T08:23:20.974159Z",
     "shell.execute_reply": "2022-10-15T08:23:20.972857Z",
     "shell.execute_reply.started": "2022-10-15T08:23:20.920464Z"
    }
   },
   "outputs": [],
   "source": [
    "data.info()"
   ]
  },
  {
   "cell_type": "code",
   "execution_count": null,
   "metadata": {
    "execution": {
     "iopub.execute_input": "2022-10-15T08:23:20.978272Z",
     "iopub.status.busy": "2022-10-15T08:23:20.977864Z",
     "iopub.status.idle": "2022-10-15T08:23:28.669957Z",
     "shell.execute_reply": "2022-10-15T08:23:28.668704Z",
     "shell.execute_reply.started": "2022-10-15T08:23:20.978235Z"
    }
   },
   "outputs": [],
   "source": [
    "sns.heatmap(data.isnull(),cmap = 'magma',cbar = False)"
   ]
  },
  {
   "cell_type": "markdown",
   "metadata": {},
   "source": [
    "- **No null values** present in the data!"
   ]
  },
  {
   "cell_type": "code",
   "execution_count": null,
   "metadata": {
    "execution": {
     "iopub.execute_input": "2022-10-15T08:23:28.672387Z",
     "iopub.status.busy": "2022-10-15T08:23:28.672011Z",
     "iopub.status.idle": "2022-10-15T08:23:29.165674Z",
     "shell.execute_reply": "2022-10-15T08:23:29.164642Z",
     "shell.execute_reply.started": "2022-10-15T08:23:28.672348Z"
    }
   },
   "outputs": [],
   "source": [
    "data.describe()"
   ]
  },
  {
   "cell_type": "code",
   "execution_count": null,
   "metadata": {
    "execution": {
     "iopub.execute_input": "2022-10-15T08:23:29.167505Z",
     "iopub.status.busy": "2022-10-15T08:23:29.167174Z",
     "iopub.status.idle": "2022-10-15T08:23:31.073637Z",
     "shell.execute_reply": "2022-10-15T08:23:31.072625Z",
     "shell.execute_reply.started": "2022-10-15T08:23:29.167463Z"
    }
   },
   "outputs": [],
   "source": [
    "fraud = data[data['Class'] == 1].describe().T\n",
    "nofraud = data[data['Class'] == 0].describe().T\n",
    "\n",
    "colors = ['#FFD700','#3B3B3C']\n",
    "\n",
    "fig,ax = plt.subplots(nrows = 2,ncols = 2,figsize = (5,15))\n",
    "plt.subplot(2,2,1)\n",
    "sns.heatmap(fraud[['mean']][:15],annot = True,cmap = colors,linewidths = 0.5,linecolor = 'black',cbar = False,fmt = '.2f')\n",
    "plt.title('Fraud Samples : Part 1');\n",
    "\n",
    "plt.subplot(2,2,2)\n",
    "sns.heatmap(fraud[['mean']][15:30],annot = True,cmap = colors,linewidths = 0.5,linecolor = 'black',cbar = False,fmt = '.2f')\n",
    "plt.title('Fraud Samples : Part 2');\n",
    "\n",
    "plt.subplot(2,2,3)\n",
    "sns.heatmap(nofraud[['mean']][:15],annot = True,cmap = colors,linewidths = 0.5,linecolor = 'black',cbar = False,fmt = '.2f')\n",
    "plt.title('No Fraud Samples : Part 1');\n",
    "\n",
    "plt.subplot(2,2,4)\n",
    "sns.heatmap(nofraud[['mean']][15:30],annot = True,cmap = colors,linewidths = 0.5,linecolor = 'black',cbar = False,fmt = '.2f')\n",
    "plt.title('No Fraud Samples : Part 2');\n",
    "\n",
    "fig.tight_layout(w_pad = 2)"
   ]
  },
  {
   "cell_type": "markdown",
   "metadata": {},
   "source": [
    "- **Mean** values of features for **Fraud** & **No Fraud** cases!\n",
    "- For **No Fraud** cases, **V1 - V28** mean values are almost **0** for all the cases. Mean **Amount**, 88.29, is less than the mean transaction amount, 122.21, of the **Fraud** cases.\n",
    "- **Time** taken for **No Fraud** transactions is more than those for **Fraud** transactions.\n",
    "- These could be some of the indicators for detecting **fraud** transactions."
   ]
  },
  {
   "cell_type": "markdown",
   "metadata": {},
   "source": [
    "# <center><div style=\"font-family: Trebuchet MS; background-color: #3B3B3C; color: #FFD700; padding: 12px; line-height: 1;\">Data Visualization</div></center>"
   ]
  },
  {
   "cell_type": "markdown",
   "metadata": {},
   "source": [
    "### Target Variable Visualization (Class) : "
   ]
  },
  {
   "cell_type": "code",
   "execution_count": null,
   "metadata": {
    "execution": {
     "iopub.execute_input": "2022-10-15T08:23:31.0753Z",
     "iopub.status.busy": "2022-10-15T08:23:31.074977Z",
     "iopub.status.idle": "2022-10-15T08:23:31.342061Z",
     "shell.execute_reply": "2022-10-15T08:23:31.341062Z",
     "shell.execute_reply.started": "2022-10-15T08:23:31.075268Z"
    }
   },
   "outputs": [],
   "source": [
    "fraud = len(data[data['Class'] == 1]) / len(data) * 100\n",
    "nofraud = len(data[data['Class'] == 0]) / len(data) * 100\n",
    "fraud_percentage = [nofraud,fraud]\n",
    "\n",
    "fig,ax = plt.subplots(nrows = 1,ncols = 2,figsize = (20,5))\n",
    "plt.subplot(1,2,1)\n",
    "plt.pie(fraud_percentage,labels = ['Fraud','No Fraud'],autopct='%1.1f%%',startangle = 90,colors = colors,\n",
    "       wedgeprops = {'edgecolor' : 'black','linewidth': 1,'antialiased' : True})\n",
    "\n",
    "plt.subplot(1,2,2)\n",
    "ax = sns.countplot('Class',data = data,edgecolor = 'black',palette = colors)\n",
    "for rect in ax.patches:\n",
    "    ax.text(rect.get_x() + rect.get_width() / 2, rect.get_height() + 2, rect.get_height(), horizontalalignment='center', fontsize = 11)\n",
    "ax.set_xticklabels(['No Fraud','Fraud'])\n",
    "plt.title('Number of Fraud Cases');"
   ]
  },
  {
   "cell_type": "markdown",
   "metadata": {},
   "source": [
    "- The data is clearly **highly unbalanced** with majority of the transactions being **No Fraud**. \n",
    "- Due to highly unbalanced data, the classification model will bias its prediction towards the majority class, **No Fraud**. \n",
    "- Hence, data balancing becomes a crucial part in building a robust model. "
   ]
  },
  {
   "cell_type": "markdown",
   "metadata": {},
   "source": [
    "# <center><div style=\"font-family: Trebuchet MS; background-color: #3B3B3C; color: #FFD700; padding: 12px; line-height: 1;\">Feature Selection</div></center>"
   ]
  },
  {
   "cell_type": "markdown",
   "metadata": {},
   "source": [
    "### Correlation Matrix :"
   ]
  },
  {
   "cell_type": "code",
   "execution_count": null,
   "metadata": {
    "execution": {
     "iopub.execute_input": "2022-10-15T08:23:31.344348Z",
     "iopub.status.busy": "2022-10-15T08:23:31.344011Z",
     "iopub.status.idle": "2022-10-15T08:23:32.297763Z",
     "shell.execute_reply": "2022-10-15T08:23:32.296562Z",
     "shell.execute_reply.started": "2022-10-15T08:23:31.344317Z"
    }
   },
   "outputs": [],
   "source": [
    "sns.heatmap(data.corr(),cmap = colors,cbar = True)"
   ]
  },
  {
   "cell_type": "markdown",
   "metadata": {},
   "source": [
    "- There are too many features in the dataset and it is difficult to understand anything. \n",
    "- Hence, we will plot the correlation map only with the target variable."
   ]
  },
  {
   "cell_type": "code",
   "execution_count": null,
   "metadata": {
    "execution": {
     "iopub.execute_input": "2022-10-15T08:23:32.299586Z",
     "iopub.status.busy": "2022-10-15T08:23:32.299243Z",
     "iopub.status.idle": "2022-10-15T08:23:32.982941Z",
     "shell.execute_reply": "2022-10-15T08:23:32.981569Z",
     "shell.execute_reply.started": "2022-10-15T08:23:32.299554Z"
    }
   },
   "outputs": [],
   "source": [
    "corr = data.corrwith(data['Class']).sort_values(ascending = False).to_frame()\n",
    "corr.columns = ['Correlation']\n",
    "fig,ax = plt.subplots(nrows = 1,ncols = 2,figsize = (5,10))\n",
    "\n",
    "plt.subplot(1,2,1)\n",
    "sns.heatmap(corr.iloc[:15,:],annot = True,cmap = colors,linewidths = 0.4,linecolor = 'black',cbar = False)\n",
    "plt.title('Part 1')\n",
    "\n",
    "plt.subplot(1,2,2)\n",
    "sns.heatmap(corr.iloc[15:30],annot = True,cmap = colors,linewidths = 0.4,linecolor = 'black',cbar = False)\n",
    "plt.title('Part 2')\n",
    "\n",
    "fig.tight_layout(w_pad = 2)"
   ]
  },
  {
   "cell_type": "markdown",
   "metadata": {},
   "source": [
    "- For feature selection, we will **exclude** the features having correlation values between **[-0.1,0.1]**.\n",
    "- V4, V11 are positively correlated and V7, V3, V16, V10, V12, V14, V17 are negatively correlated with the **Class** feature."
   ]
  },
  {
   "cell_type": "markdown",
   "metadata": {},
   "source": [
    "### ANOVA Test :"
   ]
  },
  {
   "cell_type": "code",
   "execution_count": null,
   "metadata": {
    "execution": {
     "iopub.execute_input": "2022-10-15T08:23:32.985661Z",
     "iopub.status.busy": "2022-10-15T08:23:32.985172Z",
     "iopub.status.idle": "2022-10-15T08:23:33.257589Z",
     "shell.execute_reply": "2022-10-15T08:23:33.256781Z",
     "shell.execute_reply.started": "2022-10-15T08:23:32.985591Z"
    }
   },
   "outputs": [],
   "source": [
    "from sklearn.feature_selection import SelectKBest\n",
    "from sklearn.feature_selection import f_classif"
   ]
  },
  {
   "cell_type": "code",
   "execution_count": null,
   "metadata": {
    "execution": {
     "iopub.execute_input": "2022-10-15T08:23:33.259127Z",
     "iopub.status.busy": "2022-10-15T08:23:33.258707Z",
     "iopub.status.idle": "2022-10-15T08:23:34.070811Z",
     "shell.execute_reply": "2022-10-15T08:23:34.069707Z",
     "shell.execute_reply.started": "2022-10-15T08:23:33.259096Z"
    }
   },
   "outputs": [],
   "source": [
    "features = data.loc[:,:'Amount']\n",
    "target = data.loc[:,'Class']\n",
    "\n",
    "best_features = SelectKBest(score_func = f_classif,k = 'all')\n",
    "fit = best_features.fit(features,target)\n",
    "\n",
    "featureScores = pd.DataFrame(data = fit.scores_,index = list(features.columns),columns = ['ANOVA Score']) \n",
    "featureScores = featureScores.sort_values(ascending = False,by = 'ANOVA Score')\n",
    "\n",
    "fig,ax = plt.subplots(nrows = 1,ncols = 2,figsize = (5,10))\n",
    "\n",
    "plt.subplot(1,2,1)\n",
    "sns.heatmap(featureScores.iloc[:15,:],annot = True,cmap = colors,linewidths = 0.4,linecolor = 'black',cbar = False, fmt = '.2f')\n",
    "plt.title('ANOVA Score : Part 1')\n",
    "\n",
    "plt.subplot(1,2,2)\n",
    "sns.heatmap(featureScores.iloc[15:30],annot = True,cmap = colors,linewidths = 0.4,linecolor = 'black',cbar = False, fmt = '.2f')\n",
    "plt.title('ANOVA Score : Part 2')\n",
    "\n",
    "fig.tight_layout(w_pad = 2)"
   ]
  },
  {
   "cell_type": "markdown",
   "metadata": {},
   "source": [
    "- Higher the value of the ANOVA score, higher the importance of that feature with the target variable.\n",
    "- From the above plot, we will reject features with values less than 50.\n",
    "- In this case, we will create 2 models based on features selected from the **Correlation Plot** & **ANOVA Score**."
   ]
  },
  {
   "cell_type": "markdown",
   "metadata": {},
   "source": [
    "#### Dataset for Model based on Correlation Plot :"
   ]
  },
  {
   "cell_type": "code",
   "execution_count": null,
   "metadata": {
    "execution": {
     "iopub.execute_input": "2022-10-15T08:23:34.073291Z",
     "iopub.status.busy": "2022-10-15T08:23:34.072907Z",
     "iopub.status.idle": "2022-10-15T08:23:34.117775Z",
     "shell.execute_reply": "2022-10-15T08:23:34.116399Z",
     "shell.execute_reply.started": "2022-10-15T08:23:34.073254Z"
    }
   },
   "outputs": [],
   "source": [
    "df1 = data[['V3','V4','V7','V10','V11','V12','V14','V16','V17','Class']].copy(deep = True)\n",
    "df1.head()"
   ]
  },
  {
   "cell_type": "markdown",
   "metadata": {},
   "source": [
    "#### Dataset for Model based on ANOVA Score :"
   ]
  },
  {
   "cell_type": "code",
   "execution_count": null,
   "metadata": {
    "execution": {
     "iopub.execute_input": "2022-10-15T08:23:34.120197Z",
     "iopub.status.busy": "2022-10-15T08:23:34.119722Z",
     "iopub.status.idle": "2022-10-15T08:23:34.218308Z",
     "shell.execute_reply": "2022-10-15T08:23:34.217091Z",
     "shell.execute_reply.started": "2022-10-15T08:23:34.120148Z"
    }
   },
   "outputs": [],
   "source": [
    "df2 = data.copy(deep = True)\n",
    "df2.drop(columns = list(featureScores.index[20:]),inplace = True)\n",
    "df2.head()"
   ]
  },
  {
   "cell_type": "markdown",
   "metadata": {},
   "source": [
    "# <center><div style=\"font-family: Trebuchet MS; background-color: #3B3B3C; color: #FFD700; padding: 12px; line-height: 1;\">Data Balancing</div></center>\n",
    "\n",
    "- In order to cope with unbalanced data, there are 2 options :\n",
    "\n",
    "    - **Undersampling** : Trim down the majority samples of the target variable.\n",
    "    - **Oversampling** : Increase the minority samples of the target variable to the majority samples.\n",
    "    \n",
    "    \n",
    "- For best performances, we will use the combination of undersampling and oversampling.\n",
    "- First, we will undersample the majority samples and it is followed by oversampling minority samples.\n",
    "- For data balancing, we will use **imblearn**.\n",
    "- **PIP statement** : pip install imbalanced-learn"
   ]
  },
  {
   "cell_type": "code",
   "execution_count": null,
   "metadata": {
    "execution": {
     "iopub.execute_input": "2022-10-15T08:23:34.220598Z",
     "iopub.status.busy": "2022-10-15T08:23:34.220112Z",
     "iopub.status.idle": "2022-10-15T08:23:34.625258Z",
     "shell.execute_reply": "2022-10-15T08:23:34.623736Z",
     "shell.execute_reply.started": "2022-10-15T08:23:34.220549Z"
    }
   },
   "outputs": [],
   "source": [
    "import imblearn\n",
    "from collections import Counter\n",
    "from imblearn.over_sampling import SMOTE\n",
    "from imblearn.under_sampling import RandomUnderSampler\n",
    "from imblearn.pipeline import Pipeline"
   ]
  },
  {
   "cell_type": "markdown",
   "metadata": {},
   "source": [
    "#### Data Balancing for Model based on Correlation Plot :"
   ]
  },
  {
   "cell_type": "code",
   "execution_count": null,
   "metadata": {
    "execution": {
     "iopub.execute_input": "2022-10-15T08:23:34.628001Z",
     "iopub.status.busy": "2022-10-15T08:23:34.627326Z",
     "iopub.status.idle": "2022-10-15T08:23:34.768015Z",
     "shell.execute_reply": "2022-10-15T08:23:34.766813Z",
     "shell.execute_reply.started": "2022-10-15T08:23:34.627942Z"
    }
   },
   "outputs": [],
   "source": [
    "over = SMOTE(sampling_strategy = 0.5)\n",
    "under = RandomUnderSampler(sampling_strategy = 0.1)\n",
    "f1 = df1.iloc[:,:9].values\n",
    "t1 = df1.iloc[:,9].values\n",
    "\n",
    "steps = [('under', under),('over', over)]\n",
    "pipeline = Pipeline(steps=steps)\n",
    "f1, t1 = pipeline.fit_resample(f1, t1)\n",
    "Counter(t1)"
   ]
  },
  {
   "cell_type": "markdown",
   "metadata": {},
   "source": [
    "#### Data Balancing for Model based on ANOVA Score :"
   ]
  },
  {
   "cell_type": "code",
   "execution_count": null,
   "metadata": {
    "execution": {
     "iopub.execute_input": "2022-10-15T08:23:34.769994Z",
     "iopub.status.busy": "2022-10-15T08:23:34.769625Z",
     "iopub.status.idle": "2022-10-15T08:23:34.922711Z",
     "shell.execute_reply": "2022-10-15T08:23:34.921582Z",
     "shell.execute_reply.started": "2022-10-15T08:23:34.769959Z"
    }
   },
   "outputs": [],
   "source": [
    "over = SMOTE(sampling_strategy = 0.5)\n",
    "under = RandomUnderSampler(sampling_strategy = 0.1)\n",
    "f2 = df2.iloc[:,:20].values\n",
    "t2 = df2.iloc[:,20].values\n",
    "\n",
    "steps = [('under', under),('over', over)]\n",
    "pipeline = Pipeline(steps=steps)\n",
    "f2, t2 = pipeline.fit_resample(f2, t2)\n",
    "Counter(t2)"
   ]
  },
  {
   "cell_type": "markdown",
   "metadata": {},
   "source": [
    "### Calculation for Data Balancing :\n",
    "\n",
    "- **Sampling Strategy** : It is a ratio which is the common paramter for oversampling and undersampling.\n",
    "- **Sampling Strategy** : **( Samples of Minority Class ) / ( Samples of Majority Class )**\n",
    "\n",
    "\n",
    "- In this case,\n",
    "\n",
    "    - **Majority Class : No Fraud Cases** : 284315 samples\n",
    "    - **Minority Class : Fraud Cases** : 492 samples\n",
    "\n",
    "\n",
    "### Undersampling : Trim down the majority class samples\n",
    "\n",
    "- Sampling_Strategy = 0.1\n",
    "- 0.1 = ( 492 ) / Majority Class Samples\n",
    "- After undersampling, \n",
    "\n",
    "    - **Majority Class : No Fraud Cases** : 4920 samples\n",
    "    - **Minority Class : Fraud Cases** : 492 samples\n",
    "\n",
    "\n",
    "### Oversampling : Increase the minority class samples\n",
    "\n",
    "- Sampling_Strategy = 0.5\n",
    "- 0.5 = ( Minority Class Samples ) / 4920\n",
    "- After oversampling, \n",
    "\n",
    "    - **Majority Class : No Fraud Cases** : 4920 samples\n",
    "    - **Minority Class : Fraud Cases** : 2460 samples\n",
    "    \n",
    "\n",
    "- Final Class Samples :\n",
    "\n",
    "    - **Majority Class : No Fraud Cases** : 4920 samples\n",
    "    - **Minority Class : Fraud Cases** : 2460 samples\n",
    "\n",
    "\n",
    "- For imbalanced datasets, we **duplicate the data** to deal with the potential bias in the predictions. \n",
    "- Due to this duplication process, we are using **synthetic data** for modeling purposes to ensure that the predictions are not skewed towards the majority target class value.\n",
    "- Thus, evaluating models using **accuracy** will be misleading. Instead, we will go for **confusion matrix, ROC-AUC graph and ROC-AUC score** for model evaluation."
   ]
  },
  {
   "cell_type": "markdown",
   "metadata": {},
   "source": [
    "# <center><div style=\"font-family: Trebuchet MS; background-color: #3B3B3C; color: #FFD700; padding: 12px; line-height: 1;\">Modeling</div></center>"
   ]
  },
  {
   "cell_type": "code",
   "execution_count": null,
   "metadata": {
    "execution": {
     "iopub.execute_input": "2022-10-15T08:23:34.924709Z",
     "iopub.status.busy": "2022-10-15T08:23:34.92427Z",
     "iopub.status.idle": "2022-10-15T08:23:34.932143Z",
     "shell.execute_reply": "2022-10-15T08:23:34.930688Z",
     "shell.execute_reply.started": "2022-10-15T08:23:34.924668Z"
    }
   },
   "outputs": [],
   "source": [
    "from sklearn.model_selection import train_test_split\n",
    "from sklearn.metrics import confusion_matrix\n",
    "from sklearn.metrics import roc_auc_score\n",
    "from sklearn.metrics import RocCurveDisplay\n",
    "from sklearn.metrics import plot_roc_curve\n",
    "from sklearn.model_selection import cross_val_score\n",
    "from sklearn.model_selection import GridSearchCV\n",
    "from sklearn.metrics import classification_report\n",
    "from sklearn.model_selection import RepeatedStratifiedKFold\n",
    "from sklearn.metrics import precision_recall_curve"
   ]
  },
  {
   "cell_type": "code",
   "execution_count": null,
   "metadata": {
    "execution": {
     "iopub.execute_input": "2022-10-15T08:23:34.935038Z",
     "iopub.status.busy": "2022-10-15T08:23:34.934381Z",
     "iopub.status.idle": "2022-10-15T08:23:34.952142Z",
     "shell.execute_reply": "2022-10-15T08:23:34.950805Z",
     "shell.execute_reply.started": "2022-10-15T08:23:34.934986Z"
    }
   },
   "outputs": [],
   "source": [
    "x_train1, x_test1, y_train1, y_test1 = train_test_split(f1, t1, test_size = 0.20, random_state = 2)\n",
    "x_train2, x_test2, y_train2, y_test2 = train_test_split(f2, t2, test_size = 0.20, random_state = 2)"
   ]
  },
  {
   "cell_type": "markdown",
   "metadata": {},
   "source": [
    "- Splitting the data into **80 - 20 train - test** groups."
   ]
  },
  {
   "cell_type": "code",
   "execution_count": null,
   "metadata": {
    "execution": {
     "iopub.execute_input": "2022-10-15T08:23:34.954387Z",
     "iopub.status.busy": "2022-10-15T08:23:34.953979Z",
     "iopub.status.idle": "2022-10-15T08:23:34.970415Z",
     "shell.execute_reply": "2022-10-15T08:23:34.969118Z",
     "shell.execute_reply.started": "2022-10-15T08:23:34.954344Z"
    }
   },
   "outputs": [],
   "source": [
    "def model(classifier,x_train,y_train,x_test,y_test):\n",
    "    \n",
    "    classifier.fit(x_train,y_train)\n",
    "    prediction = classifier.predict(x_test)\n",
    "    cv = RepeatedStratifiedKFold(n_splits = 10,n_repeats = 3,random_state = 1)\n",
    "    print(\"Cross Validation Score : \",'{0:.2%}'.format(cross_val_score(classifier,x_train,y_train,cv = cv,scoring = 'roc_auc').mean()))\n",
    "    print(\"ROC_AUC Score : \",'{0:.2%}'.format(roc_auc_score(y_test,prediction)))\n",
    "    plot_roc_curve(classifier, x_test,y_test)\n",
    "    plt.title('ROC_AUC_Plot')\n",
    "    plt.show()\n",
    "    \n",
    "def model_evaluation(classifier,x_test,y_test):\n",
    "    \n",
    "    # Confusion Matrix\n",
    "    cm = confusion_matrix(y_test,classifier.predict(x_test))\n",
    "    names = ['True Neg','False Pos','False Neg','True Pos']\n",
    "    counts = [value for value in cm.flatten()]\n",
    "    percentages = ['{0:.2%}'.format(value) for value in cm.flatten()/np.sum(cm)]\n",
    "    labels = [f'{v1}\\n{v2}\\n{v3}' for v1, v2, v3 in zip(names,counts,percentages)]\n",
    "    labels = np.asarray(labels).reshape(2,2)\n",
    "    sns.heatmap(cm,annot = labels,cmap = 'Blues',fmt ='')\n",
    "    \n",
    "    # Classification Report\n",
    "    print(classification_report(y_test,classifier.predict(x_test)))"
   ]
  },
  {
   "cell_type": "markdown",
   "metadata": {},
   "source": [
    "### 1] Logistic Regression :"
   ]
  },
  {
   "cell_type": "code",
   "execution_count": null,
   "metadata": {
    "execution": {
     "iopub.execute_input": "2022-10-15T08:23:34.973613Z",
     "iopub.status.busy": "2022-10-15T08:23:34.972975Z",
     "iopub.status.idle": "2022-10-15T08:23:34.98317Z",
     "shell.execute_reply": "2022-10-15T08:23:34.981961Z",
     "shell.execute_reply.started": "2022-10-15T08:23:34.973544Z"
    }
   },
   "outputs": [],
   "source": [
    "from sklearn.linear_model import LogisticRegression"
   ]
  },
  {
   "cell_type": "code",
   "execution_count": null,
   "metadata": {
    "execution": {
     "iopub.execute_input": "2022-10-15T08:23:34.986221Z",
     "iopub.status.busy": "2022-10-15T08:23:34.985317Z",
     "iopub.status.idle": "2022-10-15T08:23:34.998133Z",
     "shell.execute_reply": "2022-10-15T08:23:34.996799Z",
     "shell.execute_reply.started": "2022-10-15T08:23:34.986137Z"
    }
   },
   "outputs": [],
   "source": [
    "classifier_lr = LogisticRegression(random_state = 0,C=10,penalty= 'l2') "
   ]
  },
  {
   "cell_type": "markdown",
   "metadata": {},
   "source": [
    "#### Model based on Correlation Plot :"
   ]
  },
  {
   "cell_type": "code",
   "execution_count": null,
   "metadata": {
    "execution": {
     "iopub.execute_input": "2022-10-15T08:23:35.000708Z",
     "iopub.status.busy": "2022-10-15T08:23:35.000195Z",
     "iopub.status.idle": "2022-10-15T08:23:36.0229Z",
     "shell.execute_reply": "2022-10-15T08:23:36.021727Z",
     "shell.execute_reply.started": "2022-10-15T08:23:35.000655Z"
    }
   },
   "outputs": [],
   "source": [
    "model(classifier_lr,x_train1,y_train1,x_test1,y_test1)\n",
    "model_evaluation(classifier_lr,x_test1,y_test1)"
   ]
  },
  {
   "cell_type": "markdown",
   "metadata": {},
   "source": [
    "#### Model based on ANOVA Score :"
   ]
  },
  {
   "cell_type": "code",
   "execution_count": null,
   "metadata": {
    "execution": {
     "iopub.execute_input": "2022-10-15T08:23:36.025016Z",
     "iopub.status.busy": "2022-10-15T08:23:36.024574Z",
     "iopub.status.idle": "2022-10-15T08:23:38.025296Z",
     "shell.execute_reply": "2022-10-15T08:23:38.024316Z",
     "shell.execute_reply.started": "2022-10-15T08:23:36.024982Z"
    }
   },
   "outputs": [],
   "source": [
    "model(classifier_lr,x_train2,y_train2,x_test2,y_test2)\n",
    "model_evaluation(classifier_lr,x_test2,y_test2)"
   ]
  },
  {
   "cell_type": "markdown",
   "metadata": {},
   "source": [
    "### 2] Support Vector Classifier :"
   ]
  },
  {
   "cell_type": "code",
   "execution_count": null,
   "metadata": {
    "execution": {
     "iopub.execute_input": "2022-10-15T08:23:38.027031Z",
     "iopub.status.busy": "2022-10-15T08:23:38.026728Z",
     "iopub.status.idle": "2022-10-15T08:23:38.031419Z",
     "shell.execute_reply": "2022-10-15T08:23:38.030521Z",
     "shell.execute_reply.started": "2022-10-15T08:23:38.027Z"
    }
   },
   "outputs": [],
   "source": [
    "from sklearn.svm import SVC"
   ]
  },
  {
   "cell_type": "code",
   "execution_count": null,
   "metadata": {
    "execution": {
     "iopub.execute_input": "2022-10-15T08:23:38.032914Z",
     "iopub.status.busy": "2022-10-15T08:23:38.032561Z",
     "iopub.status.idle": "2022-10-15T08:23:38.04412Z",
     "shell.execute_reply": "2022-10-15T08:23:38.04311Z",
     "shell.execute_reply.started": "2022-10-15T08:23:38.032883Z"
    }
   },
   "outputs": [],
   "source": [
    "classifier_svc = SVC(kernel = 'linear',C = 0.1)"
   ]
  },
  {
   "cell_type": "markdown",
   "metadata": {},
   "source": [
    "#### Model based on Correlation Plot :"
   ]
  },
  {
   "cell_type": "code",
   "execution_count": null,
   "metadata": {
    "execution": {
     "iopub.execute_input": "2022-10-15T08:23:38.045772Z",
     "iopub.status.busy": "2022-10-15T08:23:38.045293Z",
     "iopub.status.idle": "2022-10-15T08:23:42.074244Z",
     "shell.execute_reply": "2022-10-15T08:23:42.073199Z",
     "shell.execute_reply.started": "2022-10-15T08:23:38.045569Z"
    }
   },
   "outputs": [],
   "source": [
    "model(classifier_svc,x_train1,y_train1,x_test1,y_test1)\n",
    "model_evaluation(classifier_svc,x_test1,y_test1)"
   ]
  },
  {
   "cell_type": "markdown",
   "metadata": {},
   "source": [
    "#### Model based on ANOVA Score :"
   ]
  },
  {
   "cell_type": "code",
   "execution_count": null,
   "metadata": {
    "execution": {
     "iopub.execute_input": "2022-10-15T08:23:42.075778Z",
     "iopub.status.busy": "2022-10-15T08:23:42.075445Z",
     "iopub.status.idle": "2022-10-15T08:23:47.681088Z",
     "shell.execute_reply": "2022-10-15T08:23:47.680061Z",
     "shell.execute_reply.started": "2022-10-15T08:23:42.075744Z"
    }
   },
   "outputs": [],
   "source": [
    "model(classifier_svc,x_train2,y_train2,x_test2,y_test2)\n",
    "model_evaluation(classifier_svc,x_test2,y_test2)"
   ]
  },
  {
   "cell_type": "markdown",
   "metadata": {},
   "source": [
    "### 3] Decision Tree Classifier :"
   ]
  },
  {
   "cell_type": "code",
   "execution_count": null,
   "metadata": {
    "execution": {
     "iopub.execute_input": "2022-10-15T08:23:47.683085Z",
     "iopub.status.busy": "2022-10-15T08:23:47.682667Z",
     "iopub.status.idle": "2022-10-15T08:23:47.688761Z",
     "shell.execute_reply": "2022-10-15T08:23:47.687163Z",
     "shell.execute_reply.started": "2022-10-15T08:23:47.683044Z"
    }
   },
   "outputs": [],
   "source": [
    "from sklearn.tree import DecisionTreeClassifier"
   ]
  },
  {
   "cell_type": "code",
   "execution_count": null,
   "metadata": {
    "execution": {
     "iopub.execute_input": "2022-10-15T08:23:47.690928Z",
     "iopub.status.busy": "2022-10-15T08:23:47.690463Z",
     "iopub.status.idle": "2022-10-15T08:23:47.708668Z",
     "shell.execute_reply": "2022-10-15T08:23:47.707577Z",
     "shell.execute_reply.started": "2022-10-15T08:23:47.690884Z"
    }
   },
   "outputs": [],
   "source": [
    "classifier_dt = DecisionTreeClassifier(random_state = 1000,max_depth = 4,min_samples_leaf = 1)"
   ]
  },
  {
   "cell_type": "markdown",
   "metadata": {},
   "source": [
    "#### Model based on Correlation Plot :"
   ]
  },
  {
   "cell_type": "code",
   "execution_count": null,
   "metadata": {
    "execution": {
     "iopub.execute_input": "2022-10-15T08:23:47.715931Z",
     "iopub.status.busy": "2022-10-15T08:23:47.715124Z",
     "iopub.status.idle": "2022-10-15T08:23:48.932793Z",
     "shell.execute_reply": "2022-10-15T08:23:48.931713Z",
     "shell.execute_reply.started": "2022-10-15T08:23:47.715884Z"
    }
   },
   "outputs": [],
   "source": [
    "model(classifier_dt,x_train1,y_train1,x_test1,y_test1)\n",
    "model_evaluation(classifier_dt,x_test1,y_test1)"
   ]
  },
  {
   "cell_type": "markdown",
   "metadata": {},
   "source": [
    "#### Model based on ANOVA Score :"
   ]
  },
  {
   "cell_type": "code",
   "execution_count": null,
   "metadata": {
    "execution": {
     "iopub.execute_input": "2022-10-15T08:23:48.935538Z",
     "iopub.status.busy": "2022-10-15T08:23:48.935166Z",
     "iopub.status.idle": "2022-10-15T08:23:50.95498Z",
     "shell.execute_reply": "2022-10-15T08:23:50.953974Z",
     "shell.execute_reply.started": "2022-10-15T08:23:48.935501Z"
    }
   },
   "outputs": [],
   "source": [
    "model(classifier_dt,x_train2,y_train2,x_test2,y_test2)\n",
    "model_evaluation(classifier_dt,x_test2,y_test2)"
   ]
  },
  {
   "cell_type": "markdown",
   "metadata": {},
   "source": [
    "### 4] Random Forest Classifier : "
   ]
  },
  {
   "cell_type": "code",
   "execution_count": null,
   "metadata": {
    "execution": {
     "iopub.execute_input": "2022-10-15T08:23:50.956734Z",
     "iopub.status.busy": "2022-10-15T08:23:50.956429Z",
     "iopub.status.idle": "2022-10-15T08:23:50.960877Z",
     "shell.execute_reply": "2022-10-15T08:23:50.960085Z",
     "shell.execute_reply.started": "2022-10-15T08:23:50.956697Z"
    }
   },
   "outputs": [],
   "source": [
    "from sklearn.ensemble import RandomForestClassifier"
   ]
  },
  {
   "cell_type": "code",
   "execution_count": null,
   "metadata": {
    "execution": {
     "iopub.execute_input": "2022-10-15T08:23:50.962037Z",
     "iopub.status.busy": "2022-10-15T08:23:50.961775Z",
     "iopub.status.idle": "2022-10-15T08:23:50.972942Z",
     "shell.execute_reply": "2022-10-15T08:23:50.971981Z",
     "shell.execute_reply.started": "2022-10-15T08:23:50.962011Z"
    }
   },
   "outputs": [],
   "source": [
    "classifier_rf = RandomForestClassifier(max_depth = 4,random_state = 0)"
   ]
  },
  {
   "cell_type": "markdown",
   "metadata": {},
   "source": [
    "#### Model based on Correlation Plot :"
   ]
  },
  {
   "cell_type": "code",
   "execution_count": null,
   "metadata": {
    "execution": {
     "iopub.execute_input": "2022-10-15T08:23:50.974437Z",
     "iopub.status.busy": "2022-10-15T08:23:50.974163Z",
     "iopub.status.idle": "2022-10-15T08:24:14.814823Z",
     "shell.execute_reply": "2022-10-15T08:24:14.813774Z",
     "shell.execute_reply.started": "2022-10-15T08:23:50.974411Z"
    }
   },
   "outputs": [],
   "source": [
    "model(classifier_rf,x_train1,y_train1,x_test1,y_test1)\n",
    "model_evaluation(classifier_rf,x_test1,y_test1)"
   ]
  },
  {
   "cell_type": "markdown",
   "metadata": {},
   "source": [
    "#### Model based on ANOVA Score :"
   ]
  },
  {
   "cell_type": "code",
   "execution_count": null,
   "metadata": {
    "execution": {
     "iopub.execute_input": "2022-10-15T08:24:14.816774Z",
     "iopub.status.busy": "2022-10-15T08:24:14.816412Z",
     "iopub.status.idle": "2022-10-15T08:24:44.181464Z",
     "shell.execute_reply": "2022-10-15T08:24:44.1803Z",
     "shell.execute_reply.started": "2022-10-15T08:24:14.816742Z"
    }
   },
   "outputs": [],
   "source": [
    "model(classifier_rf,x_train2,y_train2,x_test2,y_test2)\n",
    "model_evaluation(classifier_rf,x_test2,y_test2)"
   ]
  },
  {
   "cell_type": "markdown",
   "metadata": {},
   "source": [
    "### 5] K-Nearest Neighbors :"
   ]
  },
  {
   "cell_type": "code",
   "execution_count": null,
   "metadata": {
    "execution": {
     "iopub.execute_input": "2022-10-15T08:24:44.183511Z",
     "iopub.status.busy": "2022-10-15T08:24:44.18314Z",
     "iopub.status.idle": "2022-10-15T08:24:44.188699Z",
     "shell.execute_reply": "2022-10-15T08:24:44.187486Z",
     "shell.execute_reply.started": "2022-10-15T08:24:44.183476Z"
    }
   },
   "outputs": [],
   "source": [
    "from sklearn.neighbors import KNeighborsClassifier"
   ]
  },
  {
   "cell_type": "code",
   "execution_count": null,
   "metadata": {
    "execution": {
     "iopub.execute_input": "2022-10-15T08:24:44.191312Z",
     "iopub.status.busy": "2022-10-15T08:24:44.190831Z",
     "iopub.status.idle": "2022-10-15T08:24:44.203105Z",
     "shell.execute_reply": "2022-10-15T08:24:44.201792Z",
     "shell.execute_reply.started": "2022-10-15T08:24:44.191261Z"
    }
   },
   "outputs": [],
   "source": [
    "classifier_knn = KNeighborsClassifier(leaf_size = 1, n_neighbors = 3,p = 1)"
   ]
  },
  {
   "cell_type": "markdown",
   "metadata": {},
   "source": [
    "#### Model based on Correlation Plot :"
   ]
  },
  {
   "cell_type": "code",
   "execution_count": null,
   "metadata": {
    "execution": {
     "iopub.execute_input": "2022-10-15T08:24:44.205581Z",
     "iopub.status.busy": "2022-10-15T08:24:44.205071Z",
     "iopub.status.idle": "2022-10-15T08:24:47.785614Z",
     "shell.execute_reply": "2022-10-15T08:24:47.784202Z",
     "shell.execute_reply.started": "2022-10-15T08:24:44.205532Z"
    }
   },
   "outputs": [],
   "source": [
    "model(classifier_knn,x_train1,y_train1,x_test1,y_test1)\n",
    "model_evaluation(classifier_knn,x_test1,y_test1)"
   ]
  },
  {
   "cell_type": "markdown",
   "metadata": {},
   "source": [
    "#### Model based on ANOVA Score :"
   ]
  },
  {
   "cell_type": "code",
   "execution_count": null,
   "metadata": {
    "execution": {
     "iopub.execute_input": "2022-10-15T08:24:47.787808Z",
     "iopub.status.busy": "2022-10-15T08:24:47.787431Z",
     "iopub.status.idle": "2022-10-15T08:24:58.091949Z",
     "shell.execute_reply": "2022-10-15T08:24:58.090841Z",
     "shell.execute_reply.started": "2022-10-15T08:24:47.78777Z"
    }
   },
   "outputs": [],
   "source": [
    "model(classifier_knn,x_train2,y_train2,x_test2,y_test2)\n",
    "model_evaluation(classifier_knn,x_test2,y_test2)"
   ]
  },
  {
   "cell_type": "markdown",
   "metadata": {},
   "source": [
    "### ML Alogrithm Results Table :\n",
    "\n",
    "#### Results Table for models based on Correlation Plot : \n",
    "\n",
    "|Sr. No.|ML Algorithm|Cross Validation Score|ROC AUC Score|F1 Score (Fraud)|\n",
    "|-|-|-|-|-|\n",
    "|1|Logistic Regression|98.01%|92.35%|91%|\n",
    "|2|Support Vector Classifier|97.94%|92.10%|91%|\n",
    "|3|Decision Tree Classifier|96.67%|91.36%|90%|\n",
    "|4|Random Forest Classifier|97.84%|91.71%|91%|\n",
    "|5|K-Nearest Neighbors|99.34%|97.63%|97%|\n",
    " \n",
    "#### Results Table for models based on ANOVA Score :\n",
    "\n",
    "|Sr. No.|ML Algorithm|Cross Validation Score|ROC AUC Score|F1 Score (Fraud)|\n",
    "|-|-|-|-|-|\n",
    "|1|Logistic Regression|98.45%|94.69%|94%|\n",
    "|2|Support Vector Classifier|98.32%|94.40%|94%|\n",
    "|3|Decision Tree Classifier|97.13%|93.69%|93%|\n",
    "|4|Random Forest Classifier|98.20%|94.06%|94%|\n",
    "|5|K-Nearest Neighbors|99.54%|98.47%|97%|"
   ]
  },
  {
   "cell_type": "markdown",
   "metadata": {},
   "source": [
    "# <center><div style=\"font-family: Trebuchet MS; background-color: #3B3B3C; color: #FFD700; padding: 12px; line-height: 1;\">Conclusion</div></center>\n",
    "\n",
    "- This is a great dataset to learn about binary classification problem with unbalanced data.\n",
    "\n",
    "\n",
    "- As the features are disguised, feature selection cannot be assisted based on the domain knowledge of the topic. Statistical tests hold the complete importance to select features for modeling.  \n",
    "\n",
    "\n",
    "- Due to the use of SMOTE analysis for balancing the data, the models trained on this synthetic data cannot be evaluated using accuracy. Hence, we resort to Cross Validation Score and ROC-AUC Score for model evaluation."
   ]
  },
  {
   "cell_type": "markdown",
   "metadata": {},
   "source": [
    "### References :\n",
    "- https://www.chargebackgurus.com/blog/credit-card-fraud-detection\n",
    "- https://www.cnbc.com/select/what-is-a-credit-card/\n",
    "- https://www.bajajfinserv.in/credit-card-fraud-in-india\n",
    "- https://www.fortunebusinessinsights.com/industry-reports/fraud-detection-and-prevention-market-100231\n",
    "- [Image Source](https://miro.medium.com/max/800/1*MZ0Qqk7xtHdvJJbUTu_1CQ.jpeg)"
   ]
  },
  {
   "cell_type": "markdown",
   "metadata": {},
   "source": [
    "# <center><div style=\"font-family: Trebuchet MS; background-color: #3B3B3C; color: #FFD700; padding: 12px; line-height: 1;\">Please upvote if you like the work!</div><div style=\"font-family: Trebuchet MS; background-color: #3B3B3C; color: #FFD700; padding: 12px; line-height: 1;\">Any sort of feedback would be appreciated!</div><div style=\"font-family: Trebuchet MS; background-color: #3B3B3C; color: #FFD700; padding: 12px; line-height: 1;\">Thank You!</div></center>"
   ]
  }
 ],
 "metadata": {
  "kernelspec": {
   "display_name": "Python 3",
   "language": "python",
   "name": "python3"
  },
  "language_info": {
   "codemirror_mode": {
    "name": "ipython",
    "version": 3
   },
   "file_extension": ".py",
   "mimetype": "text/x-python",
   "name": "python",
   "nbconvert_exporter": "python",
   "pygments_lexer": "ipython3",
   "version": "3.8.8"
  }
 },
 "nbformat": 4,
 "nbformat_minor": 4
}
